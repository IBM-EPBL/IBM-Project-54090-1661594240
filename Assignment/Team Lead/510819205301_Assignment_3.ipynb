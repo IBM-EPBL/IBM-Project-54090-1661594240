{
 "cells": [
  {
   "cell_type": "code",
   "execution_count": 1,
   "id": "82597256",
   "metadata": {},
   "outputs": [],
   "source": [
    "# Importing librarys\n",
    "from tensorflow.keras.preprocessing.image import ImageDataGenerator"
   ]
  },
  {
   "cell_type": "code",
   "execution_count": 2,
   "id": "59ffa4cf",
   "metadata": {},
   "outputs": [],
   "source": [
    "# creating augmentation on training variables\n",
    "train_datagen = ImageDataGenerator(rescale=1./255, zoom_range=0.2, horizontal_flip=True)"
   ]
  },
  {
   "cell_type": "code",
   "execution_count": 3,
   "id": "8f062b15",
   "metadata": {},
   "outputs": [],
   "source": [
    "# creating a augmentaion on testu=ing variables\n",
    "test_datagen = ImageDataGenerator(rescale=1./255)"
   ]
  },
  {
   "cell_type": "code",
   "execution_count": 4,
   "id": "8e547b7a",
   "metadata": {},
   "outputs": [
    {
     "name": "stdout",
     "output_type": "stream",
     "text": [
      "Found 4317 images belonging to 5 classes.\n"
     ]
    }
   ],
   "source": [
    "xtrain = train_datagen.flow_from_directory(r'C:\\Users\\prasa\\OneDrive\\Desktop\\nalaiyathiran\\Flowers-Dataset\\training_set', target_size=(64, 64), class_mode='categorical',batch_size=100)"
   ]
  },
  {
   "cell_type": "code",
   "execution_count": 5,
   "id": "8fa9242e",
   "metadata": {},
   "outputs": [
    {
     "name": "stdout",
     "output_type": "stream",
     "text": [
      "Found 3615 images belonging to 5 classes.\n"
     ]
    }
   ],
   "source": [
    "xtest = test_datagen.flow_from_directory(r'C:\\Users\\prasa\\OneDrive\\Desktop\\nalaiyathiran\\Flowers-Dataset\\test_set', target_size=(64, 64), class_mode='categorical', batch_size=100)"
   ]
  },
  {
   "cell_type": "code",
   "execution_count": 6,
   "id": "734a6ba8",
   "metadata": {},
   "outputs": [],
   "source": [
    "from tensorflow.keras.models import Sequential\n",
    "from tensorflow.keras.layers import Convolution2D,MaxPooling2D,Flatten,Dense"
   ]
  },
  {
   "cell_type": "code",
   "execution_count": 7,
   "id": "de9eece4",
   "metadata": {},
   "outputs": [],
   "source": [
    "#CNN Block\n",
    "model = Sequential()\n",
    "model.add(Convolution2D(32,(3,3),activation='relu',input_shape=(64,64,3))) #convolution Layer\n",
    "model.add(MaxPooling2D(pool_size=(2,2))) #Max Pooling layer\n",
    "model.add(Flatten()) #Flatten Layer\n",
    "\n",
    "#Fully Connected Layer(ANN)\n",
    "model.add(Dense(700,activation='relu')) #Hidden Layer 1\n",
    "model.add(Dense(550,activation='relu')) #Hidden Layer 2\n",
    "model.add(Dense(5,activation='softmax')) #Output Layer"
   ]
  },
  {
   "cell_type": "code",
   "execution_count": 8,
   "id": "6dc4bcd7",
   "metadata": {},
   "outputs": [],
   "source": [
    "#Compile the Model\n",
    "\n",
    "model.compile(optimizer='adam', loss='categorical_crossentropy', metrics=['accuracy'])"
   ]
  },
  {
   "cell_type": "code",
   "execution_count": 26,
   "id": "d70596cf",
   "metadata": {},
   "outputs": [
    {
     "name": "stderr",
     "output_type": "stream",
     "text": [
      "C:\\Users\\prasa\\AppData\\Local\\Temp\\ipykernel_9424\\3464147896.py:3: UserWarning: `Model.fit_generator` is deprecated and will be removed in a future version. Please use `Model.fit`, which supports generators.\n",
      "  model.fit_generator(xtrain,\n"
     ]
    },
    {
     "name": "stdout",
     "output_type": "stream",
     "text": [
      "Epoch 1/10\n",
      "44/44 [==============================] - 37s 827ms/step - loss: 1.7130 - accuracy: 0.3533 - val_loss: 1.2387 - val_accuracy: 0.4899\n",
      "Epoch 2/10\n",
      "44/44 [==============================] - 31s 710ms/step - loss: 1.0966 - accuracy: 0.5552 - val_loss: 1.2315 - val_accuracy: 0.5402\n",
      "Epoch 3/10\n",
      "44/44 [==============================] - 30s 694ms/step - loss: 0.9923 - accuracy: 0.6083 - val_loss: 1.0185 - val_accuracy: 0.6260\n",
      "Epoch 4/10\n",
      "44/44 [==============================] - 30s 693ms/step - loss: 0.9184 - accuracy: 0.6486 - val_loss: 0.8907 - val_accuracy: 0.6539\n",
      "Epoch 5/10\n",
      "44/44 [==============================] - 30s 691ms/step - loss: 0.8622 - accuracy: 0.6657 - val_loss: 0.7891 - val_accuracy: 0.7001\n",
      "Epoch 6/10\n",
      "44/44 [==============================] - 30s 693ms/step - loss: 0.7855 - accuracy: 0.6996 - val_loss: 0.8144 - val_accuracy: 0.6893\n",
      "Epoch 7/10\n",
      "44/44 [==============================] - 30s 694ms/step - loss: 0.7641 - accuracy: 0.7077 - val_loss: 0.7457 - val_accuracy: 0.7189\n",
      "Epoch 8/10\n",
      "44/44 [==============================] - 31s 704ms/step - loss: 0.7086 - accuracy: 0.7306 - val_loss: 0.6953 - val_accuracy: 0.7355\n",
      "Epoch 9/10\n",
      "44/44 [==============================] - 31s 715ms/step - loss: 0.6694 - accuracy: 0.7415 - val_loss: 0.6070 - val_accuracy: 0.7701\n",
      "Epoch 10/10\n",
      "44/44 [==============================] - 30s 689ms/step - loss: 0.6513 - accuracy: 0.7464 - val_loss: 0.6931 - val_accuracy: 0.7250\n"
     ]
    },
    {
     "data": {
      "text/plain": [
       "<keras.callbacks.History at 0x20be5e012e0>"
      ]
     },
     "execution_count": 26,
     "metadata": {},
     "output_type": "execute_result"
    }
   ],
   "source": [
    "# Train model\n",
    "\n",
    "model.fit_generator(xtrain,\n",
    "                    steps_per_epoch=len(xtrain),\n",
    "                    epochs=10,\n",
    "                    validation_data=xtest,\n",
    "                    validation_steps=len(xtest))"
   ]
  },
  {
   "cell_type": "code",
   "execution_count": 33,
   "id": "70f58541",
   "metadata": {},
   "outputs": [],
   "source": [
    "# Saving the model\n",
    "model.save('Flower.h5')"
   ]
  },
  {
   "cell_type": "markdown",
   "id": "a96b8a06",
   "metadata": {},
   "source": [
    "## Testing Model"
   ]
  },
  {
   "cell_type": "code",
   "execution_count": 24,
   "id": "e55a4038",
   "metadata": {},
   "outputs": [],
   "source": [
    "import numpy as np\n",
    "from tensorflow.keras.preprocessing import image"
   ]
  },
  {
   "cell_type": "code",
   "execution_count": 119,
   "id": "caf124ad",
   "metadata": {},
   "outputs": [],
   "source": [
    "img = image.load_img(r'C:/Users/prasa/OneDrive/Desktop/nalaiyathiran/Flowers-Dataset/test_set/rose/3705716290_cb7d803130_n.jpg',\n",
    "                    target_size=(64,64))"
   ]
  },
  {
   "cell_type": "code",
   "execution_count": 120,
   "id": "996f1447",
   "metadata": {},
   "outputs": [
    {
     "data": {
      "image/png": "[encoded data removed]",
      "text/plain": [
       "<PIL.Image.Image image mode=RGB size=64x64 at 0x13E564C93D0>"
      ]
     },
     "execution_count": 120,
     "metadata": {},
     "output_type": "execute_result"
    }
   ],
   "source": [
    "img"
   ]
  },
  {
   "cell_type": "code",
   "execution_count": 121,
   "id": "8ed1450a",
   "metadata": {},
   "outputs": [
    {
     "data": {
      "text/plain": [
       "array([[[ 58.,  55.,  36.],\n",
       "        [ 34.,  31.,  14.],\n",
       "        [ 44.,  42.,  29.],\n",
       "        ...,\n",
       "        [ 91., 101.,  49.],\n",
       "        [ 88.,  88.,  50.],\n",
       "        [ 70.,  78.,  39.]],\n",
       "\n",
       "       [[ 48.,  46.,  31.],\n",
       "        [ 31.,  30.,  12.],\n",
       "        [ 38.,  38.,  26.],\n",
       "        ...,\n",
       "        [ 98., 108.,  55.],\n",
       "        [ 68.,  76.,  39.],\n",
       "        [ 69.,  68.,  37.]],\n",
       "\n",
       "       [[ 50.,  47.,  30.],\n",
       "        [ 44.,  41.,  22.],\n",
       "        [ 57.,  56.,  38.],\n",
       "        ...,\n",
       "        [ 56.,  70.,  34.],\n",
       "        [ 74.,  82.,  43.],\n",
       "        [ 77.,  83.,  35.]],\n",
       "\n",
       "       ...,\n",
       "\n",
       "       [[ 73.,  69.,  31.],\n",
       "        [ 40.,  42.,  21.],\n",
       "        [ 32.,  33.,  19.],\n",
       "        ...,\n",
       "        [ 35.,  33.,  20.],\n",
       "        [ 35.,  33.,  21.],\n",
       "        [ 30.,  31.,  17.]],\n",
       "\n",
       "       [[ 79.,  74.,  52.],\n",
       "        [ 38.,  42.,  17.],\n",
       "        [117., 143.,  80.],\n",
       "        ...,\n",
       "        [ 33.,  34.,  20.],\n",
       "        [ 33.,  34.,  16.],\n",
       "        [ 27.,  26.,  21.]],\n",
       "\n",
       "       [[ 82.,  78.,  53.],\n",
       "        [ 36.,  40.,  17.],\n",
       "        [118., 133.,  74.],\n",
       "        ...,\n",
       "        [ 35.,  33.,  20.],\n",
       "        [ 32.,  35.,  18.],\n",
       "        [ 28.,  27.,  22.]]], dtype=float32)"
      ]
     },
     "execution_count": 121,
     "metadata": {},
     "output_type": "execute_result"
    }
   ],
   "source": [
    "# Converting image to array\n",
    "\n",
    "x = image.img_to_array(img)\n",
    "x"
   ]
  },
  {
   "cell_type": "code",
   "execution_count": 122,
   "id": "6a0fa5b9",
   "metadata": {},
   "outputs": [
    {
     "data": {
      "text/plain": [
       "array([[[[ 58.,  55.,  36.],\n",
       "         [ 34.,  31.,  14.],\n",
       "         [ 44.,  42.,  29.],\n",
       "         ...,\n",
       "         [ 91., 101.,  49.],\n",
       "         [ 88.,  88.,  50.],\n",
       "         [ 70.,  78.,  39.]],\n",
       "\n",
       "        [[ 48.,  46.,  31.],\n",
       "         [ 31.,  30.,  12.],\n",
       "         [ 38.,  38.,  26.],\n",
       "         ...,\n",
       "         [ 98., 108.,  55.],\n",
       "         [ 68.,  76.,  39.],\n",
       "         [ 69.,  68.,  37.]],\n",
       "\n",
       "        [[ 50.,  47.,  30.],\n",
       "         [ 44.,  41.,  22.],\n",
       "         [ 57.,  56.,  38.],\n",
       "         ...,\n",
       "         [ 56.,  70.,  34.],\n",
       "         [ 74.,  82.,  43.],\n",
       "         [ 77.,  83.,  35.]],\n",
       "\n",
       "        ...,\n",
       "\n",
       "        [[ 73.,  69.,  31.],\n",
       "         [ 40.,  42.,  21.],\n",
       "         [ 32.,  33.,  19.],\n",
       "         ...,\n",
       "         [ 35.,  33.,  20.],\n",
       "         [ 35.,  33.,  21.],\n",
       "         [ 30.,  31.,  17.]],\n",
       "\n",
       "        [[ 79.,  74.,  52.],\n",
       "         [ 38.,  42.,  17.],\n",
       "         [117., 143.,  80.],\n",
       "         ...,\n",
       "         [ 33.,  34.,  20.],\n",
       "         [ 33.,  34.,  16.],\n",
       "         [ 27.,  26.,  21.]],\n",
       "\n",
       "        [[ 82.,  78.,  53.],\n",
       "         [ 36.,  40.,  17.],\n",
       "         [118., 133.,  74.],\n",
       "         ...,\n",
       "         [ 35.,  33.,  20.],\n",
       "         [ 32.,  35.,  18.],\n",
       "         [ 28.,  27.,  22.]]]], dtype=float32)"
      ]
     },
     "execution_count": 122,
     "metadata": {},
     "output_type": "execute_result"
    }
   ],
   "source": [
    "# Expanding dimensions\n",
    "\n",
    "x = np.expand_dims(x, axis=0)\n",
    "x"
   ]
  },
  {
   "cell_type": "code",
   "execution_count": 123,
   "id": "111327cd",
   "metadata": {},
   "outputs": [
    {
     "name": "stdout",
     "output_type": "stream",
     "text": [
      "1/1 [==============================] - 0s 48ms/step\n"
     ]
    },
    {
     "data": {
      "text/plain": [
       "array([[1.5428707e-04, 1.3498879e-19, 9.7169286e-01, 2.8152790e-02,\n",
       "        0.0000000e+00]], dtype=float32)"
      ]
     },
     "execution_count": 123,
     "metadata": {},
     "output_type": "execute_result"
    }
   ],
   "source": [
    "\n",
    "# Predicting Flower\n",
    "\n",
    "model.predict(x)"
   ]
  },
  {
   "cell_type": "code",
   "execution_count": 124,
   "id": "916635b2",
   "metadata": {},
   "outputs": [
    {
     "data": {
      "text/plain": [
       "{'daisy': 0, 'dandelion': 1, 'rose': 2, 'sunflower': 3, 'tulip': 4}"
      ]
     },
     "execution_count": 124,
     "metadata": {},
     "output_type": "execute_result"
    }
   ],
   "source": [
    "# For visualizing class index\n",
    "\n",
    "xtrain.class_indices"
   ]
  },
  {
   "cell_type": "code",
   "execution_count": 126,
   "id": "e63d4d67",
   "metadata": {},
   "outputs": [
    {
     "name": "stdout",
     "output_type": "stream",
     "text": [
      "1/1 [==============================] - 0s 44ms/step\n"
     ]
    },
    {
     "data": {
      "text/plain": [
       "'rose'"
      ]
     },
     "execution_count": 126,
     "metadata": {},
     "output_type": "execute_result"
    }
   ],
   "source": [
    "# Predicting and Index Matching\n",
    "\n",
    "op = ['daisy', 'dandelion', 'rose', 'sunflower', 'tulip']\n",
    "pred = np.argmax(model.predict(x))\n",
    "op[pred]"
   ]
  },
  {
   "cell_type": "code",
   "execution_count": null,
   "id": "d660be07",
   "metadata": {},
   "outputs": [],
   "source": []
  }
 ],
 "metadata": {
  "kernelspec": {
   "display_name": "Python 3 (ipykernel)",
   "language": "python",
   "name": "python3"
  },
  "language_info": {
   "codemirror_mode": {
    "name": "ipython",
    "version": 3
   },
   "file_extension": ".py",
   "mimetype": "text/x-python",
   "name": "python",
   "nbconvert_exporter": "python",
   "pygments_lexer": "ipython3",
   "version": "3.9.12"
  },
  "varInspector": {
   "cols": {
    "lenName": 16,
    "lenType": 16,
    "lenVar": 40
   },
   "kernels_config": {
    "python": {
     "delete_cmd_postfix": "",
     "delete_cmd_prefix": "del ",
     "library": "var_list.py",
     "varRefreshCmd": "print(var_dic_list())"
    },
    "r": {
     "delete_cmd_postfix": ") ",
     "delete_cmd_prefix": "rm(",
     "library": "var_list.r",
     "varRefreshCmd": "cat(var_dic_list()) "
    }
   },
   "types_to_exclude": [
    "module",
    "function",
    "builtin_function_or_method",
    "instance",
    "_Feature"
   ],
   "window_display": false
  }
 },
 "nbformat": 4,
 "nbformat_minor": 5
}
